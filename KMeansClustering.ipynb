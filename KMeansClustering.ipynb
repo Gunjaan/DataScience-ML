{
  "nbformat": 4,
  "nbformat_minor": 0,
  "metadata": {
    "colab": {
      "name": "KMeansClustering.ipynb",
      "provenance": [],
      "collapsed_sections": []
    },
    "kernelspec": {
      "name": "python3",
      "display_name": "Python 3"
    },
    "language_info": {
      "name": "python"
    }
  },
  "cells": [
    {
      "cell_type": "markdown",
      "source": [
        "## K-MEANS CLUSTERING"
      ],
      "metadata": {
        "id": "cC_AJbONHU2M"
      }
    },
    {
      "cell_type": "markdown",
      "source": [
        "**EXERCISE**\n",
        "1. Use iris flower dataset from sklearn library and try to form clusters of flowers using petal width and length features. Drop other two features for simplicity.\n",
        "2. Figure out if any preprocessing such as scaling would help here\n",
        "3. Draw elbow plot and from that figure out optimal value of k"
      ],
      "metadata": {
        "id": "oLrgQk6QHDAt"
      }
    },
    {
      "cell_type": "code",
      "execution_count": 64,
      "metadata": {
        "id": "oBhCqZrO594D"
      },
      "outputs": [],
      "source": [
        "import pandas as pd\n",
        "import matplotlib.pyplot as plt\n",
        "import numpy as np"
      ]
    },
    {
      "cell_type": "code",
      "source": [
        "from sklearn.datasets import load_iris\n",
        "iris = load_iris()"
      ],
      "metadata": {
        "id": "dezLY8Ag-tUa"
      },
      "execution_count": 65,
      "outputs": []
    },
    {
      "cell_type": "code",
      "source": [
        "dir(iris)"
      ],
      "metadata": {
        "colab": {
          "base_uri": "https://localhost:8080/"
        },
        "id": "KTh6fpNn-1F-",
        "outputId": "d8e180fb-47b6-4279-d1d7-55b517d36917"
      },
      "execution_count": 66,
      "outputs": [
        {
          "output_type": "execute_result",
          "data": {
            "text/plain": [
              "['DESCR',\n",
              " 'data',\n",
              " 'data_module',\n",
              " 'feature_names',\n",
              " 'filename',\n",
              " 'frame',\n",
              " 'target',\n",
              " 'target_names']"
            ]
          },
          "metadata": {},
          "execution_count": 66
        }
      ]
    },
    {
      "cell_type": "code",
      "source": [
        "df= pd.DataFrame(iris.data)\n",
        "df.head()"
      ],
      "metadata": {
        "colab": {
          "base_uri": "https://localhost:8080/",
          "height": 206
        },
        "id": "avotU7NE-9Nw",
        "outputId": "b71aaca9-df69-4842-f002-2e332b57f09f"
      },
      "execution_count": 67,
      "outputs": [
        {
          "output_type": "execute_result",
          "data": {
            "text/plain": [
              "     0    1    2    3\n",
              "0  5.1  3.5  1.4  0.2\n",
              "1  4.9  3.0  1.4  0.2\n",
              "2  4.7  3.2  1.3  0.2\n",
              "3  4.6  3.1  1.5  0.2\n",
              "4  5.0  3.6  1.4  0.2"
            ],
            "text/html": [
              "\n",
              "  <div id=\"df-449ac64e-bcf8-4a0e-b3d3-c5399f3f0043\">\n",
              "    <div class=\"colab-df-container\">\n",
              "      <div>\n",
              "<style scoped>\n",
              "    .dataframe tbody tr th:only-of-type {\n",
              "        vertical-align: middle;\n",
              "    }\n",
              "\n",
              "    .dataframe tbody tr th {\n",
              "        vertical-align: top;\n",
              "    }\n",
              "\n",
              "    .dataframe thead th {\n",
              "        text-align: right;\n",
              "    }\n",
              "</style>\n",
              "<table border=\"1\" class=\"dataframe\">\n",
              "  <thead>\n",
              "    <tr style=\"text-align: right;\">\n",
              "      <th></th>\n",
              "      <th>0</th>\n",
              "      <th>1</th>\n",
              "      <th>2</th>\n",
              "      <th>3</th>\n",
              "    </tr>\n",
              "  </thead>\n",
              "  <tbody>\n",
              "    <tr>\n",
              "      <th>0</th>\n",
              "      <td>5.1</td>\n",
              "      <td>3.5</td>\n",
              "      <td>1.4</td>\n",
              "      <td>0.2</td>\n",
              "    </tr>\n",
              "    <tr>\n",
              "      <th>1</th>\n",
              "      <td>4.9</td>\n",
              "      <td>3.0</td>\n",
              "      <td>1.4</td>\n",
              "      <td>0.2</td>\n",
              "    </tr>\n",
              "    <tr>\n",
              "      <th>2</th>\n",
              "      <td>4.7</td>\n",
              "      <td>3.2</td>\n",
              "      <td>1.3</td>\n",
              "      <td>0.2</td>\n",
              "    </tr>\n",
              "    <tr>\n",
              "      <th>3</th>\n",
              "      <td>4.6</td>\n",
              "      <td>3.1</td>\n",
              "      <td>1.5</td>\n",
              "      <td>0.2</td>\n",
              "    </tr>\n",
              "    <tr>\n",
              "      <th>4</th>\n",
              "      <td>5.0</td>\n",
              "      <td>3.6</td>\n",
              "      <td>1.4</td>\n",
              "      <td>0.2</td>\n",
              "    </tr>\n",
              "  </tbody>\n",
              "</table>\n",
              "</div>\n",
              "      <button class=\"colab-df-convert\" onclick=\"convertToInteractive('df-449ac64e-bcf8-4a0e-b3d3-c5399f3f0043')\"\n",
              "              title=\"Convert this dataframe to an interactive table.\"\n",
              "              style=\"display:none;\">\n",
              "        \n",
              "  <svg xmlns=\"http://www.w3.org/2000/svg\" height=\"24px\"viewBox=\"0 0 24 24\"\n",
              "       width=\"24px\">\n",
              "    <path d=\"M0 0h24v24H0V0z\" fill=\"none\"/>\n",
              "    <path d=\"M18.56 5.44l.94 2.06.94-2.06 2.06-.94-2.06-.94-.94-2.06-.94 2.06-2.06.94zm-11 1L8.5 8.5l.94-2.06 2.06-.94-2.06-.94L8.5 2.5l-.94 2.06-2.06.94zm10 10l.94 2.06.94-2.06 2.06-.94-2.06-.94-.94-2.06-.94 2.06-2.06.94z\"/><path d=\"M17.41 7.96l-1.37-1.37c-.4-.4-.92-.59-1.43-.59-.52 0-1.04.2-1.43.59L10.3 9.45l-7.72 7.72c-.78.78-.78 2.05 0 2.83L4 21.41c.39.39.9.59 1.41.59.51 0 1.02-.2 1.41-.59l7.78-7.78 2.81-2.81c.8-.78.8-2.07 0-2.86zM5.41 20L4 18.59l7.72-7.72 1.47 1.35L5.41 20z\"/>\n",
              "  </svg>\n",
              "      </button>\n",
              "      \n",
              "  <style>\n",
              "    .colab-df-container {\n",
              "      display:flex;\n",
              "      flex-wrap:wrap;\n",
              "      gap: 12px;\n",
              "    }\n",
              "\n",
              "    .colab-df-convert {\n",
              "      background-color: #E8F0FE;\n",
              "      border: none;\n",
              "      border-radius: 50%;\n",
              "      cursor: pointer;\n",
              "      display: none;\n",
              "      fill: #1967D2;\n",
              "      height: 32px;\n",
              "      padding: 0 0 0 0;\n",
              "      width: 32px;\n",
              "    }\n",
              "\n",
              "    .colab-df-convert:hover {\n",
              "      background-color: #E2EBFA;\n",
              "      box-shadow: 0px 1px 2px rgba(60, 64, 67, 0.3), 0px 1px 3px 1px rgba(60, 64, 67, 0.15);\n",
              "      fill: #174EA6;\n",
              "    }\n",
              "\n",
              "    [theme=dark] .colab-df-convert {\n",
              "      background-color: #3B4455;\n",
              "      fill: #D2E3FC;\n",
              "    }\n",
              "\n",
              "    [theme=dark] .colab-df-convert:hover {\n",
              "      background-color: #434B5C;\n",
              "      box-shadow: 0px 1px 3px 1px rgba(0, 0, 0, 0.15);\n",
              "      filter: drop-shadow(0px 1px 2px rgba(0, 0, 0, 0.3));\n",
              "      fill: #FFFFFF;\n",
              "    }\n",
              "  </style>\n",
              "\n",
              "      <script>\n",
              "        const buttonEl =\n",
              "          document.querySelector('#df-449ac64e-bcf8-4a0e-b3d3-c5399f3f0043 button.colab-df-convert');\n",
              "        buttonEl.style.display =\n",
              "          google.colab.kernel.accessAllowed ? 'block' : 'none';\n",
              "\n",
              "        async function convertToInteractive(key) {\n",
              "          const element = document.querySelector('#df-449ac64e-bcf8-4a0e-b3d3-c5399f3f0043');\n",
              "          const dataTable =\n",
              "            await google.colab.kernel.invokeFunction('convertToInteractive',\n",
              "                                                     [key], {});\n",
              "          if (!dataTable) return;\n",
              "\n",
              "          const docLinkHtml = 'Like what you see? Visit the ' +\n",
              "            '<a target=\"_blank\" href=https://colab.research.google.com/notebooks/data_table.ipynb>data table notebook</a>'\n",
              "            + ' to learn more about interactive tables.';\n",
              "          element.innerHTML = '';\n",
              "          dataTable['output_type'] = 'display_data';\n",
              "          await google.colab.output.renderOutput(dataTable, element);\n",
              "          const docLink = document.createElement('div');\n",
              "          docLink.innerHTML = docLinkHtml;\n",
              "          element.appendChild(docLink);\n",
              "        }\n",
              "      </script>\n",
              "    </div>\n",
              "  </div>\n",
              "  "
            ]
          },
          "metadata": {},
          "execution_count": 67
        }
      ]
    },
    {
      "cell_type": "code",
      "source": [
        "feat = pd.DataFrame(iris.feature_names)\n",
        "feat.head()"
      ],
      "metadata": {
        "colab": {
          "base_uri": "https://localhost:8080/",
          "height": 175
        },
        "id": "oELkSe75_n1m",
        "outputId": "1a081d81-ad10-423b-dc97-00068c3ac9b7"
      },
      "execution_count": 68,
      "outputs": [
        {
          "output_type": "execute_result",
          "data": {
            "text/plain": [
              "                   0\n",
              "0  sepal length (cm)\n",
              "1   sepal width (cm)\n",
              "2  petal length (cm)\n",
              "3   petal width (cm)"
            ],
            "text/html": [
              "\n",
              "  <div id=\"df-b1aad5a2-9951-4de7-9123-3df46cd6257f\">\n",
              "    <div class=\"colab-df-container\">\n",
              "      <div>\n",
              "<style scoped>\n",
              "    .dataframe tbody tr th:only-of-type {\n",
              "        vertical-align: middle;\n",
              "    }\n",
              "\n",
              "    .dataframe tbody tr th {\n",
              "        vertical-align: top;\n",
              "    }\n",
              "\n",
              "    .dataframe thead th {\n",
              "        text-align: right;\n",
              "    }\n",
              "</style>\n",
              "<table border=\"1\" class=\"dataframe\">\n",
              "  <thead>\n",
              "    <tr style=\"text-align: right;\">\n",
              "      <th></th>\n",
              "      <th>0</th>\n",
              "    </tr>\n",
              "  </thead>\n",
              "  <tbody>\n",
              "    <tr>\n",
              "      <th>0</th>\n",
              "      <td>sepal length (cm)</td>\n",
              "    </tr>\n",
              "    <tr>\n",
              "      <th>1</th>\n",
              "      <td>sepal width (cm)</td>\n",
              "    </tr>\n",
              "    <tr>\n",
              "      <th>2</th>\n",
              "      <td>petal length (cm)</td>\n",
              "    </tr>\n",
              "    <tr>\n",
              "      <th>3</th>\n",
              "      <td>petal width (cm)</td>\n",
              "    </tr>\n",
              "  </tbody>\n",
              "</table>\n",
              "</div>\n",
              "      <button class=\"colab-df-convert\" onclick=\"convertToInteractive('df-b1aad5a2-9951-4de7-9123-3df46cd6257f')\"\n",
              "              title=\"Convert this dataframe to an interactive table.\"\n",
              "              style=\"display:none;\">\n",
              "        \n",
              "  <svg xmlns=\"http://www.w3.org/2000/svg\" height=\"24px\"viewBox=\"0 0 24 24\"\n",
              "       width=\"24px\">\n",
              "    <path d=\"M0 0h24v24H0V0z\" fill=\"none\"/>\n",
              "    <path d=\"M18.56 5.44l.94 2.06.94-2.06 2.06-.94-2.06-.94-.94-2.06-.94 2.06-2.06.94zm-11 1L8.5 8.5l.94-2.06 2.06-.94-2.06-.94L8.5 2.5l-.94 2.06-2.06.94zm10 10l.94 2.06.94-2.06 2.06-.94-2.06-.94-.94-2.06-.94 2.06-2.06.94z\"/><path d=\"M17.41 7.96l-1.37-1.37c-.4-.4-.92-.59-1.43-.59-.52 0-1.04.2-1.43.59L10.3 9.45l-7.72 7.72c-.78.78-.78 2.05 0 2.83L4 21.41c.39.39.9.59 1.41.59.51 0 1.02-.2 1.41-.59l7.78-7.78 2.81-2.81c.8-.78.8-2.07 0-2.86zM5.41 20L4 18.59l7.72-7.72 1.47 1.35L5.41 20z\"/>\n",
              "  </svg>\n",
              "      </button>\n",
              "      \n",
              "  <style>\n",
              "    .colab-df-container {\n",
              "      display:flex;\n",
              "      flex-wrap:wrap;\n",
              "      gap: 12px;\n",
              "    }\n",
              "\n",
              "    .colab-df-convert {\n",
              "      background-color: #E8F0FE;\n",
              "      border: none;\n",
              "      border-radius: 50%;\n",
              "      cursor: pointer;\n",
              "      display: none;\n",
              "      fill: #1967D2;\n",
              "      height: 32px;\n",
              "      padding: 0 0 0 0;\n",
              "      width: 32px;\n",
              "    }\n",
              "\n",
              "    .colab-df-convert:hover {\n",
              "      background-color: #E2EBFA;\n",
              "      box-shadow: 0px 1px 2px rgba(60, 64, 67, 0.3), 0px 1px 3px 1px rgba(60, 64, 67, 0.15);\n",
              "      fill: #174EA6;\n",
              "    }\n",
              "\n",
              "    [theme=dark] .colab-df-convert {\n",
              "      background-color: #3B4455;\n",
              "      fill: #D2E3FC;\n",
              "    }\n",
              "\n",
              "    [theme=dark] .colab-df-convert:hover {\n",
              "      background-color: #434B5C;\n",
              "      box-shadow: 0px 1px 3px 1px rgba(0, 0, 0, 0.15);\n",
              "      filter: drop-shadow(0px 1px 2px rgba(0, 0, 0, 0.3));\n",
              "      fill: #FFFFFF;\n",
              "    }\n",
              "  </style>\n",
              "\n",
              "      <script>\n",
              "        const buttonEl =\n",
              "          document.querySelector('#df-b1aad5a2-9951-4de7-9123-3df46cd6257f button.colab-df-convert');\n",
              "        buttonEl.style.display =\n",
              "          google.colab.kernel.accessAllowed ? 'block' : 'none';\n",
              "\n",
              "        async function convertToInteractive(key) {\n",
              "          const element = document.querySelector('#df-b1aad5a2-9951-4de7-9123-3df46cd6257f');\n",
              "          const dataTable =\n",
              "            await google.colab.kernel.invokeFunction('convertToInteractive',\n",
              "                                                     [key], {});\n",
              "          if (!dataTable) return;\n",
              "\n",
              "          const docLinkHtml = 'Like what you see? Visit the ' +\n",
              "            '<a target=\"_blank\" href=https://colab.research.google.com/notebooks/data_table.ipynb>data table notebook</a>'\n",
              "            + ' to learn more about interactive tables.';\n",
              "          element.innerHTML = '';\n",
              "          dataTable['output_type'] = 'display_data';\n",
              "          await google.colab.output.renderOutput(dataTable, element);\n",
              "          const docLink = document.createElement('div');\n",
              "          docLink.innerHTML = docLinkHtml;\n",
              "          element.appendChild(docLink);\n",
              "        }\n",
              "      </script>\n",
              "    </div>\n",
              "  </div>\n",
              "  "
            ]
          },
          "metadata": {},
          "execution_count": 68
        }
      ]
    },
    {
      "cell_type": "code",
      "source": [
        "df.columns = ['sepal length (cm)','sepal width (cm)','petal length (cm)','petal width (cm)']\n",
        "df"
      ],
      "metadata": {
        "colab": {
          "base_uri": "https://localhost:8080/",
          "height": 424
        },
        "id": "HtctsHGrAUkD",
        "outputId": "29038ab8-45ad-4cec-e6c0-d784683945e2"
      },
      "execution_count": 69,
      "outputs": [
        {
          "output_type": "execute_result",
          "data": {
            "text/plain": [
              "     sepal length (cm)  sepal width (cm)  petal length (cm)  petal width (cm)\n",
              "0                  5.1               3.5                1.4               0.2\n",
              "1                  4.9               3.0                1.4               0.2\n",
              "2                  4.7               3.2                1.3               0.2\n",
              "3                  4.6               3.1                1.5               0.2\n",
              "4                  5.0               3.6                1.4               0.2\n",
              "..                 ...               ...                ...               ...\n",
              "145                6.7               3.0                5.2               2.3\n",
              "146                6.3               2.5                5.0               1.9\n",
              "147                6.5               3.0                5.2               2.0\n",
              "148                6.2               3.4                5.4               2.3\n",
              "149                5.9               3.0                5.1               1.8\n",
              "\n",
              "[150 rows x 4 columns]"
            ],
            "text/html": [
              "\n",
              "  <div id=\"df-28210c47-525b-4046-85d9-206d2c48492c\">\n",
              "    <div class=\"colab-df-container\">\n",
              "      <div>\n",
              "<style scoped>\n",
              "    .dataframe tbody tr th:only-of-type {\n",
              "        vertical-align: middle;\n",
              "    }\n",
              "\n",
              "    .dataframe tbody tr th {\n",
              "        vertical-align: top;\n",
              "    }\n",
              "\n",
              "    .dataframe thead th {\n",
              "        text-align: right;\n",
              "    }\n",
              "</style>\n",
              "<table border=\"1\" class=\"dataframe\">\n",
              "  <thead>\n",
              "    <tr style=\"text-align: right;\">\n",
              "      <th></th>\n",
              "      <th>sepal length (cm)</th>\n",
              "      <th>sepal width (cm)</th>\n",
              "      <th>petal length (cm)</th>\n",
              "      <th>petal width (cm)</th>\n",
              "    </tr>\n",
              "  </thead>\n",
              "  <tbody>\n",
              "    <tr>\n",
              "      <th>0</th>\n",
              "      <td>5.1</td>\n",
              "      <td>3.5</td>\n",
              "      <td>1.4</td>\n",
              "      <td>0.2</td>\n",
              "    </tr>\n",
              "    <tr>\n",
              "      <th>1</th>\n",
              "      <td>4.9</td>\n",
              "      <td>3.0</td>\n",
              "      <td>1.4</td>\n",
              "      <td>0.2</td>\n",
              "    </tr>\n",
              "    <tr>\n",
              "      <th>2</th>\n",
              "      <td>4.7</td>\n",
              "      <td>3.2</td>\n",
              "      <td>1.3</td>\n",
              "      <td>0.2</td>\n",
              "    </tr>\n",
              "    <tr>\n",
              "      <th>3</th>\n",
              "      <td>4.6</td>\n",
              "      <td>3.1</td>\n",
              "      <td>1.5</td>\n",
              "      <td>0.2</td>\n",
              "    </tr>\n",
              "    <tr>\n",
              "      <th>4</th>\n",
              "      <td>5.0</td>\n",
              "      <td>3.6</td>\n",
              "      <td>1.4</td>\n",
              "      <td>0.2</td>\n",
              "    </tr>\n",
              "    <tr>\n",
              "      <th>...</th>\n",
              "      <td>...</td>\n",
              "      <td>...</td>\n",
              "      <td>...</td>\n",
              "      <td>...</td>\n",
              "    </tr>\n",
              "    <tr>\n",
              "      <th>145</th>\n",
              "      <td>6.7</td>\n",
              "      <td>3.0</td>\n",
              "      <td>5.2</td>\n",
              "      <td>2.3</td>\n",
              "    </tr>\n",
              "    <tr>\n",
              "      <th>146</th>\n",
              "      <td>6.3</td>\n",
              "      <td>2.5</td>\n",
              "      <td>5.0</td>\n",
              "      <td>1.9</td>\n",
              "    </tr>\n",
              "    <tr>\n",
              "      <th>147</th>\n",
              "      <td>6.5</td>\n",
              "      <td>3.0</td>\n",
              "      <td>5.2</td>\n",
              "      <td>2.0</td>\n",
              "    </tr>\n",
              "    <tr>\n",
              "      <th>148</th>\n",
              "      <td>6.2</td>\n",
              "      <td>3.4</td>\n",
              "      <td>5.4</td>\n",
              "      <td>2.3</td>\n",
              "    </tr>\n",
              "    <tr>\n",
              "      <th>149</th>\n",
              "      <td>5.9</td>\n",
              "      <td>3.0</td>\n",
              "      <td>5.1</td>\n",
              "      <td>1.8</td>\n",
              "    </tr>\n",
              "  </tbody>\n",
              "</table>\n",
              "<p>150 rows × 4 columns</p>\n",
              "</div>\n",
              "      <button class=\"colab-df-convert\" onclick=\"convertToInteractive('df-28210c47-525b-4046-85d9-206d2c48492c')\"\n",
              "              title=\"Convert this dataframe to an interactive table.\"\n",
              "              style=\"display:none;\">\n",
              "        \n",
              "  <svg xmlns=\"http://www.w3.org/2000/svg\" height=\"24px\"viewBox=\"0 0 24 24\"\n",
              "       width=\"24px\">\n",
              "    <path d=\"M0 0h24v24H0V0z\" fill=\"none\"/>\n",
              "    <path d=\"M18.56 5.44l.94 2.06.94-2.06 2.06-.94-2.06-.94-.94-2.06-.94 2.06-2.06.94zm-11 1L8.5 8.5l.94-2.06 2.06-.94-2.06-.94L8.5 2.5l-.94 2.06-2.06.94zm10 10l.94 2.06.94-2.06 2.06-.94-2.06-.94-.94-2.06-.94 2.06-2.06.94z\"/><path d=\"M17.41 7.96l-1.37-1.37c-.4-.4-.92-.59-1.43-.59-.52 0-1.04.2-1.43.59L10.3 9.45l-7.72 7.72c-.78.78-.78 2.05 0 2.83L4 21.41c.39.39.9.59 1.41.59.51 0 1.02-.2 1.41-.59l7.78-7.78 2.81-2.81c.8-.78.8-2.07 0-2.86zM5.41 20L4 18.59l7.72-7.72 1.47 1.35L5.41 20z\"/>\n",
              "  </svg>\n",
              "      </button>\n",
              "      \n",
              "  <style>\n",
              "    .colab-df-container {\n",
              "      display:flex;\n",
              "      flex-wrap:wrap;\n",
              "      gap: 12px;\n",
              "    }\n",
              "\n",
              "    .colab-df-convert {\n",
              "      background-color: #E8F0FE;\n",
              "      border: none;\n",
              "      border-radius: 50%;\n",
              "      cursor: pointer;\n",
              "      display: none;\n",
              "      fill: #1967D2;\n",
              "      height: 32px;\n",
              "      padding: 0 0 0 0;\n",
              "      width: 32px;\n",
              "    }\n",
              "\n",
              "    .colab-df-convert:hover {\n",
              "      background-color: #E2EBFA;\n",
              "      box-shadow: 0px 1px 2px rgba(60, 64, 67, 0.3), 0px 1px 3px 1px rgba(60, 64, 67, 0.15);\n",
              "      fill: #174EA6;\n",
              "    }\n",
              "\n",
              "    [theme=dark] .colab-df-convert {\n",
              "      background-color: #3B4455;\n",
              "      fill: #D2E3FC;\n",
              "    }\n",
              "\n",
              "    [theme=dark] .colab-df-convert:hover {\n",
              "      background-color: #434B5C;\n",
              "      box-shadow: 0px 1px 3px 1px rgba(0, 0, 0, 0.15);\n",
              "      filter: drop-shadow(0px 1px 2px rgba(0, 0, 0, 0.3));\n",
              "      fill: #FFFFFF;\n",
              "    }\n",
              "  </style>\n",
              "\n",
              "      <script>\n",
              "        const buttonEl =\n",
              "          document.querySelector('#df-28210c47-525b-4046-85d9-206d2c48492c button.colab-df-convert');\n",
              "        buttonEl.style.display =\n",
              "          google.colab.kernel.accessAllowed ? 'block' : 'none';\n",
              "\n",
              "        async function convertToInteractive(key) {\n",
              "          const element = document.querySelector('#df-28210c47-525b-4046-85d9-206d2c48492c');\n",
              "          const dataTable =\n",
              "            await google.colab.kernel.invokeFunction('convertToInteractive',\n",
              "                                                     [key], {});\n",
              "          if (!dataTable) return;\n",
              "\n",
              "          const docLinkHtml = 'Like what you see? Visit the ' +\n",
              "            '<a target=\"_blank\" href=https://colab.research.google.com/notebooks/data_table.ipynb>data table notebook</a>'\n",
              "            + ' to learn more about interactive tables.';\n",
              "          element.innerHTML = '';\n",
              "          dataTable['output_type'] = 'display_data';\n",
              "          await google.colab.output.renderOutput(dataTable, element);\n",
              "          const docLink = document.createElement('div');\n",
              "          docLink.innerHTML = docLinkHtml;\n",
              "          element.appendChild(docLink);\n",
              "        }\n",
              "      </script>\n",
              "    </div>\n",
              "  </div>\n",
              "  "
            ]
          },
          "metadata": {},
          "execution_count": 69
        }
      ]
    },
    {
      "cell_type": "code",
      "source": [
        "df= df.drop(columns=['sepal length (cm)', 'sepal width (cm)'])\n",
        "df"
      ],
      "metadata": {
        "colab": {
          "base_uri": "https://localhost:8080/",
          "height": 424
        },
        "id": "NfCOVMKqApQ-",
        "outputId": "e1496ecd-77cf-4026-826c-4bdb0c756a8f"
      },
      "execution_count": 70,
      "outputs": [
        {
          "output_type": "execute_result",
          "data": {
            "text/plain": [
              "     petal length (cm)  petal width (cm)\n",
              "0                  1.4               0.2\n",
              "1                  1.4               0.2\n",
              "2                  1.3               0.2\n",
              "3                  1.5               0.2\n",
              "4                  1.4               0.2\n",
              "..                 ...               ...\n",
              "145                5.2               2.3\n",
              "146                5.0               1.9\n",
              "147                5.2               2.0\n",
              "148                5.4               2.3\n",
              "149                5.1               1.8\n",
              "\n",
              "[150 rows x 2 columns]"
            ],
            "text/html": [
              "\n",
              "  <div id=\"df-8aeb903a-ce5a-4218-bd75-c0516dafc98e\">\n",
              "    <div class=\"colab-df-container\">\n",
              "      <div>\n",
              "<style scoped>\n",
              "    .dataframe tbody tr th:only-of-type {\n",
              "        vertical-align: middle;\n",
              "    }\n",
              "\n",
              "    .dataframe tbody tr th {\n",
              "        vertical-align: top;\n",
              "    }\n",
              "\n",
              "    .dataframe thead th {\n",
              "        text-align: right;\n",
              "    }\n",
              "</style>\n",
              "<table border=\"1\" class=\"dataframe\">\n",
              "  <thead>\n",
              "    <tr style=\"text-align: right;\">\n",
              "      <th></th>\n",
              "      <th>petal length (cm)</th>\n",
              "      <th>petal width (cm)</th>\n",
              "    </tr>\n",
              "  </thead>\n",
              "  <tbody>\n",
              "    <tr>\n",
              "      <th>0</th>\n",
              "      <td>1.4</td>\n",
              "      <td>0.2</td>\n",
              "    </tr>\n",
              "    <tr>\n",
              "      <th>1</th>\n",
              "      <td>1.4</td>\n",
              "      <td>0.2</td>\n",
              "    </tr>\n",
              "    <tr>\n",
              "      <th>2</th>\n",
              "      <td>1.3</td>\n",
              "      <td>0.2</td>\n",
              "    </tr>\n",
              "    <tr>\n",
              "      <th>3</th>\n",
              "      <td>1.5</td>\n",
              "      <td>0.2</td>\n",
              "    </tr>\n",
              "    <tr>\n",
              "      <th>4</th>\n",
              "      <td>1.4</td>\n",
              "      <td>0.2</td>\n",
              "    </tr>\n",
              "    <tr>\n",
              "      <th>...</th>\n",
              "      <td>...</td>\n",
              "      <td>...</td>\n",
              "    </tr>\n",
              "    <tr>\n",
              "      <th>145</th>\n",
              "      <td>5.2</td>\n",
              "      <td>2.3</td>\n",
              "    </tr>\n",
              "    <tr>\n",
              "      <th>146</th>\n",
              "      <td>5.0</td>\n",
              "      <td>1.9</td>\n",
              "    </tr>\n",
              "    <tr>\n",
              "      <th>147</th>\n",
              "      <td>5.2</td>\n",
              "      <td>2.0</td>\n",
              "    </tr>\n",
              "    <tr>\n",
              "      <th>148</th>\n",
              "      <td>5.4</td>\n",
              "      <td>2.3</td>\n",
              "    </tr>\n",
              "    <tr>\n",
              "      <th>149</th>\n",
              "      <td>5.1</td>\n",
              "      <td>1.8</td>\n",
              "    </tr>\n",
              "  </tbody>\n",
              "</table>\n",
              "<p>150 rows × 2 columns</p>\n",
              "</div>\n",
              "      <button class=\"colab-df-convert\" onclick=\"convertToInteractive('df-8aeb903a-ce5a-4218-bd75-c0516dafc98e')\"\n",
              "              title=\"Convert this dataframe to an interactive table.\"\n",
              "              style=\"display:none;\">\n",
              "        \n",
              "  <svg xmlns=\"http://www.w3.org/2000/svg\" height=\"24px\"viewBox=\"0 0 24 24\"\n",
              "       width=\"24px\">\n",
              "    <path d=\"M0 0h24v24H0V0z\" fill=\"none\"/>\n",
              "    <path d=\"M18.56 5.44l.94 2.06.94-2.06 2.06-.94-2.06-.94-.94-2.06-.94 2.06-2.06.94zm-11 1L8.5 8.5l.94-2.06 2.06-.94-2.06-.94L8.5 2.5l-.94 2.06-2.06.94zm10 10l.94 2.06.94-2.06 2.06-.94-2.06-.94-.94-2.06-.94 2.06-2.06.94z\"/><path d=\"M17.41 7.96l-1.37-1.37c-.4-.4-.92-.59-1.43-.59-.52 0-1.04.2-1.43.59L10.3 9.45l-7.72 7.72c-.78.78-.78 2.05 0 2.83L4 21.41c.39.39.9.59 1.41.59.51 0 1.02-.2 1.41-.59l7.78-7.78 2.81-2.81c.8-.78.8-2.07 0-2.86zM5.41 20L4 18.59l7.72-7.72 1.47 1.35L5.41 20z\"/>\n",
              "  </svg>\n",
              "      </button>\n",
              "      \n",
              "  <style>\n",
              "    .colab-df-container {\n",
              "      display:flex;\n",
              "      flex-wrap:wrap;\n",
              "      gap: 12px;\n",
              "    }\n",
              "\n",
              "    .colab-df-convert {\n",
              "      background-color: #E8F0FE;\n",
              "      border: none;\n",
              "      border-radius: 50%;\n",
              "      cursor: pointer;\n",
              "      display: none;\n",
              "      fill: #1967D2;\n",
              "      height: 32px;\n",
              "      padding: 0 0 0 0;\n",
              "      width: 32px;\n",
              "    }\n",
              "\n",
              "    .colab-df-convert:hover {\n",
              "      background-color: #E2EBFA;\n",
              "      box-shadow: 0px 1px 2px rgba(60, 64, 67, 0.3), 0px 1px 3px 1px rgba(60, 64, 67, 0.15);\n",
              "      fill: #174EA6;\n",
              "    }\n",
              "\n",
              "    [theme=dark] .colab-df-convert {\n",
              "      background-color: #3B4455;\n",
              "      fill: #D2E3FC;\n",
              "    }\n",
              "\n",
              "    [theme=dark] .colab-df-convert:hover {\n",
              "      background-color: #434B5C;\n",
              "      box-shadow: 0px 1px 3px 1px rgba(0, 0, 0, 0.15);\n",
              "      filter: drop-shadow(0px 1px 2px rgba(0, 0, 0, 0.3));\n",
              "      fill: #FFFFFF;\n",
              "    }\n",
              "  </style>\n",
              "\n",
              "      <script>\n",
              "        const buttonEl =\n",
              "          document.querySelector('#df-8aeb903a-ce5a-4218-bd75-c0516dafc98e button.colab-df-convert');\n",
              "        buttonEl.style.display =\n",
              "          google.colab.kernel.accessAllowed ? 'block' : 'none';\n",
              "\n",
              "        async function convertToInteractive(key) {\n",
              "          const element = document.querySelector('#df-8aeb903a-ce5a-4218-bd75-c0516dafc98e');\n",
              "          const dataTable =\n",
              "            await google.colab.kernel.invokeFunction('convertToInteractive',\n",
              "                                                     [key], {});\n",
              "          if (!dataTable) return;\n",
              "\n",
              "          const docLinkHtml = 'Like what you see? Visit the ' +\n",
              "            '<a target=\"_blank\" href=https://colab.research.google.com/notebooks/data_table.ipynb>data table notebook</a>'\n",
              "            + ' to learn more about interactive tables.';\n",
              "          element.innerHTML = '';\n",
              "          dataTable['output_type'] = 'display_data';\n",
              "          await google.colab.output.renderOutput(dataTable, element);\n",
              "          const docLink = document.createElement('div');\n",
              "          docLink.innerHTML = docLinkHtml;\n",
              "          element.appendChild(docLink);\n",
              "        }\n",
              "      </script>\n",
              "    </div>\n",
              "  </div>\n",
              "  "
            ]
          },
          "metadata": {},
          "execution_count": 70
        }
      ]
    },
    {
      "cell_type": "code",
      "source": [
        "plt.scatter(df['petal length (cm)'],df['petal width (cm)'])\n",
        "plt.xlabel('petal length (cm)')\n",
        "plt.ylabel('petal width (cm)')"
      ],
      "metadata": {
        "colab": {
          "base_uri": "https://localhost:8080/",
          "height": 297
        },
        "id": "RmXDgdaIBOgD",
        "outputId": "e473126a-00e1-4977-be84-bb52f98bde3e"
      },
      "execution_count": 71,
      "outputs": [
        {
          "output_type": "execute_result",
          "data": {
            "text/plain": [
              "Text(0, 0.5, 'petal width (cm)')"
            ]
          },
          "metadata": {},
          "execution_count": 71
        },
        {
          "output_type": "display_data",
          "data": {
            "text/plain": [
              "<Figure size 432x288 with 1 Axes>"
            ],
            "image/png": "[encoded data removed]"
          },
          "metadata": {
            "needs_background": "light"
          }
        }
      ]
    },
    {
      "cell_type": "code",
      "source": [
        "from sklearn.cluster import KMeans\n",
        "km = KMeans(n_clusters=3)\n",
        "y_predicted = km.fit_predict(df[['petal length (cm)','petal width (cm)']])\n",
        "y_predicted"
      ],
      "metadata": {
        "colab": {
          "base_uri": "https://localhost:8080/"
        },
        "id": "q59QAmQgB8v6",
        "outputId": "096f139e-1c9c-49c6-9eca-11c819d6276f"
      },
      "execution_count": 72,
      "outputs": [
        {
          "output_type": "execute_result",
          "data": {
            "text/plain": [
              "array([1, 1, 1, 1, 1, 1, 1, 1, 1, 1, 1, 1, 1, 1, 1, 1, 1, 1, 1, 1, 1, 1,\n",
              "       1, 1, 1, 1, 1, 1, 1, 1, 1, 1, 1, 1, 1, 1, 1, 1, 1, 1, 1, 1, 1, 1,\n",
              "       1, 1, 1, 1, 1, 1, 2, 2, 2, 2, 2, 2, 2, 2, 2, 2, 2, 2, 2, 2, 2, 2,\n",
              "       2, 2, 2, 2, 2, 2, 2, 2, 2, 2, 2, 0, 2, 2, 2, 2, 2, 0, 2, 2, 2, 2,\n",
              "       2, 2, 2, 2, 2, 2, 2, 2, 2, 2, 2, 2, 0, 0, 0, 0, 0, 0, 2, 0, 0, 0,\n",
              "       0, 0, 0, 0, 0, 0, 0, 0, 0, 2, 0, 0, 0, 0, 0, 0, 2, 0, 0, 0, 0, 0,\n",
              "       0, 0, 0, 0, 0, 0, 2, 0, 0, 0, 0, 0, 0, 0, 0, 0, 0, 0], dtype=int32)"
            ]
          },
          "metadata": {},
          "execution_count": 72
        }
      ]
    },
    {
      "cell_type": "code",
      "source": [
        "df['cluster']= y_predicted\n",
        "df.head()"
      ],
      "metadata": {
        "colab": {
          "base_uri": "https://localhost:8080/",
          "height": 206
        },
        "id": "yhENymNJCVKb",
        "outputId": "9a18177f-32e7-421b-cfd5-9779314cd15f"
      },
      "execution_count": 73,
      "outputs": [
        {
          "output_type": "execute_result",
          "data": {
            "text/plain": [
              "   petal length (cm)  petal width (cm)  cluster\n",
              "0                1.4               0.2        1\n",
              "1                1.4               0.2        1\n",
              "2                1.3               0.2        1\n",
              "3                1.5               0.2        1\n",
              "4                1.4               0.2        1"
            ],
            "text/html": [
              "\n",
              "  <div id=\"df-d26993ea-263d-4aeb-9c3c-06558ad27771\">\n",
              "    <div class=\"colab-df-container\">\n",
              "      <div>\n",
              "<style scoped>\n",
              "    .dataframe tbody tr th:only-of-type {\n",
              "        vertical-align: middle;\n",
              "    }\n",
              "\n",
              "    .dataframe tbody tr th {\n",
              "        vertical-align: top;\n",
              "    }\n",
              "\n",
              "    .dataframe thead th {\n",
              "        text-align: right;\n",
              "    }\n",
              "</style>\n",
              "<table border=\"1\" class=\"dataframe\">\n",
              "  <thead>\n",
              "    <tr style=\"text-align: right;\">\n",
              "      <th></th>\n",
              "      <th>petal length (cm)</th>\n",
              "      <th>petal width (cm)</th>\n",
              "      <th>cluster</th>\n",
              "    </tr>\n",
              "  </thead>\n",
              "  <tbody>\n",
              "    <tr>\n",
              "      <th>0</th>\n",
              "      <td>1.4</td>\n",
              "      <td>0.2</td>\n",
              "      <td>1</td>\n",
              "    </tr>\n",
              "    <tr>\n",
              "      <th>1</th>\n",
              "      <td>1.4</td>\n",
              "      <td>0.2</td>\n",
              "      <td>1</td>\n",
              "    </tr>\n",
              "    <tr>\n",
              "      <th>2</th>\n",
              "      <td>1.3</td>\n",
              "      <td>0.2</td>\n",
              "      <td>1</td>\n",
              "    </tr>\n",
              "    <tr>\n",
              "      <th>3</th>\n",
              "      <td>1.5</td>\n",
              "      <td>0.2</td>\n",
              "      <td>1</td>\n",
              "    </tr>\n",
              "    <tr>\n",
              "      <th>4</th>\n",
              "      <td>1.4</td>\n",
              "      <td>0.2</td>\n",
              "      <td>1</td>\n",
              "    </tr>\n",
              "  </tbody>\n",
              "</table>\n",
              "</div>\n",
              "      <button class=\"colab-df-convert\" onclick=\"convertToInteractive('df-d26993ea-263d-4aeb-9c3c-06558ad27771')\"\n",
              "              title=\"Convert this dataframe to an interactive table.\"\n",
              "              style=\"display:none;\">\n",
              "        \n",
              "  <svg xmlns=\"http://www.w3.org/2000/svg\" height=\"24px\"viewBox=\"0 0 24 24\"\n",
              "       width=\"24px\">\n",
              "    <path d=\"M0 0h24v24H0V0z\" fill=\"none\"/>\n",
              "    <path d=\"M18.56 5.44l.94 2.06.94-2.06 2.06-.94-2.06-.94-.94-2.06-.94 2.06-2.06.94zm-11 1L8.5 8.5l.94-2.06 2.06-.94-2.06-.94L8.5 2.5l-.94 2.06-2.06.94zm10 10l.94 2.06.94-2.06 2.06-.94-2.06-.94-.94-2.06-.94 2.06-2.06.94z\"/><path d=\"M17.41 7.96l-1.37-1.37c-.4-.4-.92-.59-1.43-.59-.52 0-1.04.2-1.43.59L10.3 9.45l-7.72 7.72c-.78.78-.78 2.05 0 2.83L4 21.41c.39.39.9.59 1.41.59.51 0 1.02-.2 1.41-.59l7.78-7.78 2.81-2.81c.8-.78.8-2.07 0-2.86zM5.41 20L4 18.59l7.72-7.72 1.47 1.35L5.41 20z\"/>\n",
              "  </svg>\n",
              "      </button>\n",
              "      \n",
              "  <style>\n",
              "    .colab-df-container {\n",
              "      display:flex;\n",
              "      flex-wrap:wrap;\n",
              "      gap: 12px;\n",
              "    }\n",
              "\n",
              "    .colab-df-convert {\n",
              "      background-color: #E8F0FE;\n",
              "      border: none;\n",
              "      border-radius: 50%;\n",
              "      cursor: pointer;\n",
              "      display: none;\n",
              "      fill: #1967D2;\n",
              "      height: 32px;\n",
              "      padding: 0 0 0 0;\n",
              "      width: 32px;\n",
              "    }\n",
              "\n",
              "    .colab-df-convert:hover {\n",
              "      background-color: #E2EBFA;\n",
              "      box-shadow: 0px 1px 2px rgba(60, 64, 67, 0.3), 0px 1px 3px 1px rgba(60, 64, 67, 0.15);\n",
              "      fill: #174EA6;\n",
              "    }\n",
              "\n",
              "    [theme=dark] .colab-df-convert {\n",
              "      background-color: #3B4455;\n",
              "      fill: #D2E3FC;\n",
              "    }\n",
              "\n",
              "    [theme=dark] .colab-df-convert:hover {\n",
              "      background-color: #434B5C;\n",
              "      box-shadow: 0px 1px 3px 1px rgba(0, 0, 0, 0.15);\n",
              "      filter: drop-shadow(0px 1px 2px rgba(0, 0, 0, 0.3));\n",
              "      fill: #FFFFFF;\n",
              "    }\n",
              "  </style>\n",
              "\n",
              "      <script>\n",
              "        const buttonEl =\n",
              "          document.querySelector('#df-d26993ea-263d-4aeb-9c3c-06558ad27771 button.colab-df-convert');\n",
              "        buttonEl.style.display =\n",
              "          google.colab.kernel.accessAllowed ? 'block' : 'none';\n",
              "\n",
              "        async function convertToInteractive(key) {\n",
              "          const element = document.querySelector('#df-d26993ea-263d-4aeb-9c3c-06558ad27771');\n",
              "          const dataTable =\n",
              "            await google.colab.kernel.invokeFunction('convertToInteractive',\n",
              "                                                     [key], {});\n",
              "          if (!dataTable) return;\n",
              "\n",
              "          const docLinkHtml = 'Like what you see? Visit the ' +\n",
              "            '<a target=\"_blank\" href=https://colab.research.google.com/notebooks/data_table.ipynb>data table notebook</a>'\n",
              "            + ' to learn more about interactive tables.';\n",
              "          element.innerHTML = '';\n",
              "          dataTable['output_type'] = 'display_data';\n",
              "          await google.colab.output.renderOutput(dataTable, element);\n",
              "          const docLink = document.createElement('div');\n",
              "          docLink.innerHTML = docLinkHtml;\n",
              "          element.appendChild(docLink);\n",
              "        }\n",
              "      </script>\n",
              "    </div>\n",
              "  </div>\n",
              "  "
            ]
          },
          "metadata": {},
          "execution_count": 73
        }
      ]
    },
    {
      "cell_type": "code",
      "source": [
        "df1 = df[df.cluster==0]\n",
        "df2 = df[df.cluster==1]\n",
        "df3 = df[df.cluster==2]\n",
        "\n",
        "plt.scatter(df1['petal length (cm)'],df1['petal width (cm)'],color='red')\n",
        "plt.scatter(df2['petal length (cm)'],df2['petal width (cm)'],color='yellow')\n",
        "plt.scatter(df3['petal length (cm)'],df3['petal width (cm)'],color='green')\n",
        "\n",
        "plt.xlabel('petal length (cm)')\n",
        "plt.ylabel('petal width (cm)')\n",
        "plt.legend()\n",
        "\n",
        "# PLOTTING THEIR CENTROIDS\n",
        "print(\"CENTROIDS\")\n",
        "plt.scatter(km.cluster_centers_[:,0],km.cluster_centers_[:,1],color='purple',marker='*',label='centroid')\n",
        "plt.show()"
      ],
      "metadata": {
        "colab": {
          "base_uri": "https://localhost:8080/",
          "height": 315
        },
        "id": "zO2flF3nCbqS",
        "outputId": "91962a42-e811-43c7-8f95-ec508046a2b3"
      },
      "execution_count": 74,
      "outputs": [
        {
          "output_type": "stream",
          "name": "stderr",
          "text": [
            "No handles with labels found to put in legend.\n"
          ]
        },
        {
          "output_type": "stream",
          "name": "stdout",
          "text": [
            "CENTROIDS\n"
          ]
        },
        {
          "output_type": "display_data",
          "data": {
            "text/plain": [
              "<Figure size 432x288 with 1 Axes>"
            ],
            "image/png": "[encoded data removed]"
          },
          "metadata": {
            "needs_background": "light"
          }
        }
      ]
    },
    {
      "cell_type": "markdown",
      "source": [
        "### <center> <b>Preprocessing using min max scaler </b>\n",
        "This estimator scales and translates each feature individually such that it is in the given range on the training set, e.g. between zero and one."
      ],
      "metadata": {
        "id": "W-jSnnCPDs_Z"
      }
    },
    {
      "cell_type": "code",
      "source": [
        "from sklearn.preprocessing import MinMaxScaler\n",
        "scaler = MinMaxScaler()\n",
        "\n",
        "# changes the range i.e [0,1]\n",
        "\n",
        "# petal length (cm):\n",
        "scaler.fit(df[['petal length (cm)']])\n",
        "df['petal length (cm)'] = scaler.transform(df[['petal length (cm)']])\n",
        "\n",
        "#petal width (cm)\n",
        "scaler.fit(df[['petal width (cm)']])\n",
        "df['petal width (cm)'] = scaler.transform(df[['petal width (cm)']])"
      ],
      "metadata": {
        "id": "P8KSUJM6DqtS"
      },
      "execution_count": 75,
      "outputs": []
    },
    {
      "cell_type": "code",
      "source": [
        "df"
      ],
      "metadata": {
        "colab": {
          "base_uri": "https://localhost:8080/",
          "height": 424
        },
        "id": "7KyxrnfJEo2I",
        "outputId": "0317402b-5916-44df-8613-669bc92c95da"
      },
      "execution_count": 76,
      "outputs": [
        {
          "output_type": "execute_result",
          "data": {
            "text/plain": [
              "     petal length (cm)  petal width (cm)  cluster\n",
              "0             0.067797          0.041667        1\n",
              "1             0.067797          0.041667        1\n",
              "2             0.050847          0.041667        1\n",
              "3             0.084746          0.041667        1\n",
              "4             0.067797          0.041667        1\n",
              "..                 ...               ...      ...\n",
              "145           0.711864          0.916667        0\n",
              "146           0.677966          0.750000        0\n",
              "147           0.711864          0.791667        0\n",
              "148           0.745763          0.916667        0\n",
              "149           0.694915          0.708333        0\n",
              "\n",
              "[150 rows x 3 columns]"
            ],
            "text/html": [
              "\n",
              "  <div id=\"df-56b0d87c-65d3-4cbe-85f6-18c10d436788\">\n",
              "    <div class=\"colab-df-container\">\n",
              "      <div>\n",
              "<style scoped>\n",
              "    .dataframe tbody tr th:only-of-type {\n",
              "        vertical-align: middle;\n",
              "    }\n",
              "\n",
              "    .dataframe tbody tr th {\n",
              "        vertical-align: top;\n",
              "    }\n",
              "\n",
              "    .dataframe thead th {\n",
              "        text-align: right;\n",
              "    }\n",
              "</style>\n",
              "<table border=\"1\" class=\"dataframe\">\n",
              "  <thead>\n",
              "    <tr style=\"text-align: right;\">\n",
              "      <th></th>\n",
              "      <th>petal length (cm)</th>\n",
              "      <th>petal width (cm)</th>\n",
              "      <th>cluster</th>\n",
              "    </tr>\n",
              "  </thead>\n",
              "  <tbody>\n",
              "    <tr>\n",
              "      <th>0</th>\n",
              "      <td>0.067797</td>\n",
              "      <td>0.041667</td>\n",
              "      <td>1</td>\n",
              "    </tr>\n",
              "    <tr>\n",
              "      <th>1</th>\n",
              "      <td>0.067797</td>\n",
              "      <td>0.041667</td>\n",
              "      <td>1</td>\n",
              "    </tr>\n",
              "    <tr>\n",
              "      <th>2</th>\n",
              "      <td>0.050847</td>\n",
              "      <td>0.041667</td>\n",
              "      <td>1</td>\n",
              "    </tr>\n",
              "    <tr>\n",
              "      <th>3</th>\n",
              "      <td>0.084746</td>\n",
              "      <td>0.041667</td>\n",
              "      <td>1</td>\n",
              "    </tr>\n",
              "    <tr>\n",
              "      <th>4</th>\n",
              "      <td>0.067797</td>\n",
              "      <td>0.041667</td>\n",
              "      <td>1</td>\n",
              "    </tr>\n",
              "    <tr>\n",
              "      <th>...</th>\n",
              "      <td>...</td>\n",
              "      <td>...</td>\n",
              "      <td>...</td>\n",
              "    </tr>\n",
              "    <tr>\n",
              "      <th>145</th>\n",
              "      <td>0.711864</td>\n",
              "      <td>0.916667</td>\n",
              "      <td>0</td>\n",
              "    </tr>\n",
              "    <tr>\n",
              "      <th>146</th>\n",
              "      <td>0.677966</td>\n",
              "      <td>0.750000</td>\n",
              "      <td>0</td>\n",
              "    </tr>\n",
              "    <tr>\n",
              "      <th>147</th>\n",
              "      <td>0.711864</td>\n",
              "      <td>0.791667</td>\n",
              "      <td>0</td>\n",
              "    </tr>\n",
              "    <tr>\n",
              "      <th>148</th>\n",
              "      <td>0.745763</td>\n",
              "      <td>0.916667</td>\n",
              "      <td>0</td>\n",
              "    </tr>\n",
              "    <tr>\n",
              "      <th>149</th>\n",
              "      <td>0.694915</td>\n",
              "      <td>0.708333</td>\n",
              "      <td>0</td>\n",
              "    </tr>\n",
              "  </tbody>\n",
              "</table>\n",
              "<p>150 rows × 3 columns</p>\n",
              "</div>\n",
              "      <button class=\"colab-df-convert\" onclick=\"convertToInteractive('df-56b0d87c-65d3-4cbe-85f6-18c10d436788')\"\n",
              "              title=\"Convert this dataframe to an interactive table.\"\n",
              "              style=\"display:none;\">\n",
              "        \n",
              "  <svg xmlns=\"http://www.w3.org/2000/svg\" height=\"24px\"viewBox=\"0 0 24 24\"\n",
              "       width=\"24px\">\n",
              "    <path d=\"M0 0h24v24H0V0z\" fill=\"none\"/>\n",
              "    <path d=\"M18.56 5.44l.94 2.06.94-2.06 2.06-.94-2.06-.94-.94-2.06-.94 2.06-2.06.94zm-11 1L8.5 8.5l.94-2.06 2.06-.94-2.06-.94L8.5 2.5l-.94 2.06-2.06.94zm10 10l.94 2.06.94-2.06 2.06-.94-2.06-.94-.94-2.06-.94 2.06-2.06.94z\"/><path d=\"M17.41 7.96l-1.37-1.37c-.4-.4-.92-.59-1.43-.59-.52 0-1.04.2-1.43.59L10.3 9.45l-7.72 7.72c-.78.78-.78 2.05 0 2.83L4 21.41c.39.39.9.59 1.41.59.51 0 1.02-.2 1.41-.59l7.78-7.78 2.81-2.81c.8-.78.8-2.07 0-2.86zM5.41 20L4 18.59l7.72-7.72 1.47 1.35L5.41 20z\"/>\n",
              "  </svg>\n",
              "      </button>\n",
              "      \n",
              "  <style>\n",
              "    .colab-df-container {\n",
              "      display:flex;\n",
              "      flex-wrap:wrap;\n",
              "      gap: 12px;\n",
              "    }\n",
              "\n",
              "    .colab-df-convert {\n",
              "      background-color: #E8F0FE;\n",
              "      border: none;\n",
              "      border-radius: 50%;\n",
              "      cursor: pointer;\n",
              "      display: none;\n",
              "      fill: #1967D2;\n",
              "      height: 32px;\n",
              "      padding: 0 0 0 0;\n",
              "      width: 32px;\n",
              "    }\n",
              "\n",
              "    .colab-df-convert:hover {\n",
              "      background-color: #E2EBFA;\n",
              "      box-shadow: 0px 1px 2px rgba(60, 64, 67, 0.3), 0px 1px 3px 1px rgba(60, 64, 67, 0.15);\n",
              "      fill: #174EA6;\n",
              "    }\n",
              "\n",
              "    [theme=dark] .colab-df-convert {\n",
              "      background-color: #3B4455;\n",
              "      fill: #D2E3FC;\n",
              "    }\n",
              "\n",
              "    [theme=dark] .colab-df-convert:hover {\n",
              "      background-color: #434B5C;\n",
              "      box-shadow: 0px 1px 3px 1px rgba(0, 0, 0, 0.15);\n",
              "      filter: drop-shadow(0px 1px 2px rgba(0, 0, 0, 0.3));\n",
              "      fill: #FFFFFF;\n",
              "    }\n",
              "  </style>\n",
              "\n",
              "      <script>\n",
              "        const buttonEl =\n",
              "          document.querySelector('#df-56b0d87c-65d3-4cbe-85f6-18c10d436788 button.colab-df-convert');\n",
              "        buttonEl.style.display =\n",
              "          google.colab.kernel.accessAllowed ? 'block' : 'none';\n",
              "\n",
              "        async function convertToInteractive(key) {\n",
              "          const element = document.querySelector('#df-56b0d87c-65d3-4cbe-85f6-18c10d436788');\n",
              "          const dataTable =\n",
              "            await google.colab.kernel.invokeFunction('convertToInteractive',\n",
              "                                                     [key], {});\n",
              "          if (!dataTable) return;\n",
              "\n",
              "          const docLinkHtml = 'Like what you see? Visit the ' +\n",
              "            '<a target=\"_blank\" href=https://colab.research.google.com/notebooks/data_table.ipynb>data table notebook</a>'\n",
              "            + ' to learn more about interactive tables.';\n",
              "          element.innerHTML = '';\n",
              "          dataTable['output_type'] = 'display_data';\n",
              "          await google.colab.output.renderOutput(dataTable, element);\n",
              "          const docLink = document.createElement('div');\n",
              "          docLink.innerHTML = docLinkHtml;\n",
              "          element.appendChild(docLink);\n",
              "        }\n",
              "      </script>\n",
              "    </div>\n",
              "  </div>\n",
              "  "
            ]
          },
          "metadata": {},
          "execution_count": 76
        }
      ]
    },
    {
      "cell_type": "code",
      "source": [
        "plt.scatter(df['petal length (cm)'],df['petal width (cm)'])"
      ],
      "metadata": {
        "colab": {
          "base_uri": "https://localhost:8080/",
          "height": 283
        },
        "id": "LkElfyNgEqqd",
        "outputId": "4630fcf1-5ff1-4a65-d32c-a28a3d2b8781"
      },
      "execution_count": 77,
      "outputs": [
        {
          "output_type": "execute_result",
          "data": {
            "text/plain": [
              "<matplotlib.collections.PathCollection at 0x7f1f16271f10>"
            ]
          },
          "metadata": {},
          "execution_count": 77
        },
        {
          "output_type": "display_data",
          "data": {
            "text/plain": [
              "<Figure size 432x288 with 1 Axes>"
            ],
            "image/png": "[encoded data removed]"
          },
          "metadata": {
            "needs_background": "light"
          }
        }
      ]
    },
    {
      "cell_type": "code",
      "source": [
        "from sklearn.cluster import KMeans\n",
        "km = KMeans(n_clusters=3)\n",
        "y_predicted = km.fit_predict(df[['petal length (cm)','petal width (cm)']])\n",
        "y_predicted"
      ],
      "metadata": {
        "colab": {
          "base_uri": "https://localhost:8080/"
        },
        "id": "DarsxuC9FYd5",
        "outputId": "eb263385-3fd7-4414-fb04-88f051939be0"
      },
      "execution_count": 78,
      "outputs": [
        {
          "output_type": "execute_result",
          "data": {
            "text/plain": [
              "array([0, 0, 0, 0, 0, 0, 0, 0, 0, 0, 0, 0, 0, 0, 0, 0, 0, 0, 0, 0, 0, 0,\n",
              "       0, 0, 0, 0, 0, 0, 0, 0, 0, 0, 0, 0, 0, 0, 0, 0, 0, 0, 0, 0, 0, 0,\n",
              "       0, 0, 0, 0, 0, 0, 2, 2, 2, 2, 2, 2, 2, 2, 2, 2, 2, 2, 2, 2, 2, 2,\n",
              "       2, 2, 2, 2, 1, 2, 2, 2, 2, 2, 2, 1, 2, 2, 2, 2, 2, 2, 2, 2, 2, 2,\n",
              "       2, 2, 2, 2, 2, 2, 2, 2, 2, 2, 2, 2, 1, 1, 1, 1, 1, 1, 2, 1, 1, 1,\n",
              "       1, 1, 1, 1, 1, 1, 1, 1, 1, 2, 1, 1, 1, 1, 1, 1, 1, 1, 1, 1, 1, 1,\n",
              "       1, 2, 2, 1, 1, 1, 1, 1, 1, 1, 1, 1, 1, 1, 1, 1, 1, 1], dtype=int32)"
            ]
          },
          "metadata": {},
          "execution_count": 78
        }
      ]
    },
    {
      "cell_type": "code",
      "source": [
        "df['cluster']= y_predicted\n",
        "df.head()"
      ],
      "metadata": {
        "colab": {
          "base_uri": "https://localhost:8080/",
          "height": 206
        },
        "id": "c_mBV7kjFbPU",
        "outputId": "7a72bf2b-6edc-487f-e37a-9aa82fdbcc0a"
      },
      "execution_count": 79,
      "outputs": [
        {
          "output_type": "execute_result",
          "data": {
            "text/plain": [
              "   petal length (cm)  petal width (cm)  cluster\n",
              "0           0.067797          0.041667        0\n",
              "1           0.067797          0.041667        0\n",
              "2           0.050847          0.041667        0\n",
              "3           0.084746          0.041667        0\n",
              "4           0.067797          0.041667        0"
            ],
            "text/html": [
              "\n",
              "  <div id=\"df-54dd0c5b-32e5-455b-a415-ac4a58c7a96a\">\n",
              "    <div class=\"colab-df-container\">\n",
              "      <div>\n",
              "<style scoped>\n",
              "    .dataframe tbody tr th:only-of-type {\n",
              "        vertical-align: middle;\n",
              "    }\n",
              "\n",
              "    .dataframe tbody tr th {\n",
              "        vertical-align: top;\n",
              "    }\n",
              "\n",
              "    .dataframe thead th {\n",
              "        text-align: right;\n",
              "    }\n",
              "</style>\n",
              "<table border=\"1\" class=\"dataframe\">\n",
              "  <thead>\n",
              "    <tr style=\"text-align: right;\">\n",
              "      <th></th>\n",
              "      <th>petal length (cm)</th>\n",
              "      <th>petal width (cm)</th>\n",
              "      <th>cluster</th>\n",
              "    </tr>\n",
              "  </thead>\n",
              "  <tbody>\n",
              "    <tr>\n",
              "      <th>0</th>\n",
              "      <td>0.067797</td>\n",
              "      <td>0.041667</td>\n",
              "      <td>0</td>\n",
              "    </tr>\n",
              "    <tr>\n",
              "      <th>1</th>\n",
              "      <td>0.067797</td>\n",
              "      <td>0.041667</td>\n",
              "      <td>0</td>\n",
              "    </tr>\n",
              "    <tr>\n",
              "      <th>2</th>\n",
              "      <td>0.050847</td>\n",
              "      <td>0.041667</td>\n",
              "      <td>0</td>\n",
              "    </tr>\n",
              "    <tr>\n",
              "      <th>3</th>\n",
              "      <td>0.084746</td>\n",
              "      <td>0.041667</td>\n",
              "      <td>0</td>\n",
              "    </tr>\n",
              "    <tr>\n",
              "      <th>4</th>\n",
              "      <td>0.067797</td>\n",
              "      <td>0.041667</td>\n",
              "      <td>0</td>\n",
              "    </tr>\n",
              "  </tbody>\n",
              "</table>\n",
              "</div>\n",
              "      <button class=\"colab-df-convert\" onclick=\"convertToInteractive('df-54dd0c5b-32e5-455b-a415-ac4a58c7a96a')\"\n",
              "              title=\"Convert this dataframe to an interactive table.\"\n",
              "              style=\"display:none;\">\n",
              "        \n",
              "  <svg xmlns=\"http://www.w3.org/2000/svg\" height=\"24px\"viewBox=\"0 0 24 24\"\n",
              "       width=\"24px\">\n",
              "    <path d=\"M0 0h24v24H0V0z\" fill=\"none\"/>\n",
              "    <path d=\"M18.56 5.44l.94 2.06.94-2.06 2.06-.94-2.06-.94-.94-2.06-.94 2.06-2.06.94zm-11 1L8.5 8.5l.94-2.06 2.06-.94-2.06-.94L8.5 2.5l-.94 2.06-2.06.94zm10 10l.94 2.06.94-2.06 2.06-.94-2.06-.94-.94-2.06-.94 2.06-2.06.94z\"/><path d=\"M17.41 7.96l-1.37-1.37c-.4-.4-.92-.59-1.43-.59-.52 0-1.04.2-1.43.59L10.3 9.45l-7.72 7.72c-.78.78-.78 2.05 0 2.83L4 21.41c.39.39.9.59 1.41.59.51 0 1.02-.2 1.41-.59l7.78-7.78 2.81-2.81c.8-.78.8-2.07 0-2.86zM5.41 20L4 18.59l7.72-7.72 1.47 1.35L5.41 20z\"/>\n",
              "  </svg>\n",
              "      </button>\n",
              "      \n",
              "  <style>\n",
              "    .colab-df-container {\n",
              "      display:flex;\n",
              "      flex-wrap:wrap;\n",
              "      gap: 12px;\n",
              "    }\n",
              "\n",
              "    .colab-df-convert {\n",
              "      background-color: #E8F0FE;\n",
              "      border: none;\n",
              "      border-radius: 50%;\n",
              "      cursor: pointer;\n",
              "      display: none;\n",
              "      fill: #1967D2;\n",
              "      height: 32px;\n",
              "      padding: 0 0 0 0;\n",
              "      width: 32px;\n",
              "    }\n",
              "\n",
              "    .colab-df-convert:hover {\n",
              "      background-color: #E2EBFA;\n",
              "      box-shadow: 0px 1px 2px rgba(60, 64, 67, 0.3), 0px 1px 3px 1px rgba(60, 64, 67, 0.15);\n",
              "      fill: #174EA6;\n",
              "    }\n",
              "\n",
              "    [theme=dark] .colab-df-convert {\n",
              "      background-color: #3B4455;\n",
              "      fill: #D2E3FC;\n",
              "    }\n",
              "\n",
              "    [theme=dark] .colab-df-convert:hover {\n",
              "      background-color: #434B5C;\n",
              "      box-shadow: 0px 1px 3px 1px rgba(0, 0, 0, 0.15);\n",
              "      filter: drop-shadow(0px 1px 2px rgba(0, 0, 0, 0.3));\n",
              "      fill: #FFFFFF;\n",
              "    }\n",
              "  </style>\n",
              "\n",
              "      <script>\n",
              "        const buttonEl =\n",
              "          document.querySelector('#df-54dd0c5b-32e5-455b-a415-ac4a58c7a96a button.colab-df-convert');\n",
              "        buttonEl.style.display =\n",
              "          google.colab.kernel.accessAllowed ? 'block' : 'none';\n",
              "\n",
              "        async function convertToInteractive(key) {\n",
              "          const element = document.querySelector('#df-54dd0c5b-32e5-455b-a415-ac4a58c7a96a');\n",
              "          const dataTable =\n",
              "            await google.colab.kernel.invokeFunction('convertToInteractive',\n",
              "                                                     [key], {});\n",
              "          if (!dataTable) return;\n",
              "\n",
              "          const docLinkHtml = 'Like what you see? Visit the ' +\n",
              "            '<a target=\"_blank\" href=https://colab.research.google.com/notebooks/data_table.ipynb>data table notebook</a>'\n",
              "            + ' to learn more about interactive tables.';\n",
              "          element.innerHTML = '';\n",
              "          dataTable['output_type'] = 'display_data';\n",
              "          await google.colab.output.renderOutput(dataTable, element);\n",
              "          const docLink = document.createElement('div');\n",
              "          docLink.innerHTML = docLinkHtml;\n",
              "          element.appendChild(docLink);\n",
              "        }\n",
              "      </script>\n",
              "    </div>\n",
              "  </div>\n",
              "  "
            ]
          },
          "metadata": {},
          "execution_count": 79
        }
      ]
    },
    {
      "cell_type": "code",
      "source": [
        "km.cluster_centers_"
      ],
      "metadata": {
        "colab": {
          "base_uri": "https://localhost:8080/"
        },
        "id": "grhLZdbeF00R",
        "outputId": "42493f23-1559-40a8-f775-6d8b35e2987e"
      },
      "execution_count": 80,
      "outputs": [
        {
          "output_type": "execute_result",
          "data": {
            "text/plain": [
              "array([[0.07830508, 0.06083333],\n",
              "       [0.7740113 , 0.81510417],\n",
              "       [0.55867014, 0.51041667]])"
            ]
          },
          "metadata": {},
          "execution_count": 80
        }
      ]
    },
    {
      "cell_type": "code",
      "source": [
        "df1 = df[df.cluster==0]\n",
        "df2 = df[df.cluster==1]\n",
        "df3 = df[df.cluster==2]\n",
        "\n",
        "plt.scatter(df1['petal length (cm)'],df1['petal width (cm)'],color='red')\n",
        "plt.scatter(df2['petal length (cm)'],df2['petal width (cm)'],color='yellow')\n",
        "plt.scatter(df3['petal length (cm)'],df3['petal width (cm)'],color='green')\n",
        "\n",
        "plt.xlabel('petal length (cm)')\n",
        "plt.ylabel('petal width (cm)')\n",
        "plt.legend()\n",
        "\n",
        "# PLOTTING THEIR CENTROIDS\n",
        "print(\"CENTROIDS\")\n",
        "plt.scatter(km.cluster_centers_[:,0],km.cluster_centers_[:,1],color='purple',marker='*',label='centroid')\n",
        "plt.show()"
      ],
      "metadata": {
        "colab": {
          "base_uri": "https://localhost:8080/",
          "height": 315
        },
        "id": "xU2GmX_nFTy7",
        "outputId": "ed3a09a3-2399-4478-a48a-35dbc2a74d2d"
      },
      "execution_count": 81,
      "outputs": [
        {
          "output_type": "stream",
          "name": "stderr",
          "text": [
            "No handles with labels found to put in legend.\n"
          ]
        },
        {
          "output_type": "stream",
          "name": "stdout",
          "text": [
            "CENTROIDS\n"
          ]
        },
        {
          "output_type": "display_data",
          "data": {
            "text/plain": [
              "<Figure size 432x288 with 1 Axes>"
            ],
            "image/png": "[encoded data removed]"
          },
          "metadata": {
            "needs_background": "light"
          }
        }
      ]
    },
    {
      "cell_type": "markdown",
      "source": [
        "## **Elbow method (Clustering)**\n",
        "**In cluster analysis, the elbow method is used in determining the number of clusters in a data set.** <br><br>\n",
        "**In the Elbow method, we are actually varying the number of clusters ( K ) from 1 – 10. For each value of K, we are calculating WCSS ( Within-Cluster Sum of Square ). WCSS is the sum of squared distance between each point and the centroid in a cluster; and picking the elbow of the curve as the number of clusters to use.** <br><br>\n",
        "![Screenshot 2022-06-25 at 6.21.42 PM.png](data:image/png;base64,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)\n"
      ],
      "metadata": {
        "id": "djY8lKvr6D_6"
      }
    },
    {
      "cell_type": "code",
      "source": [
        "sse = [] #array for storing sum of squared distances between each point to their centroid\n",
        "k_rng = range(1,10)\n",
        "for k in k_rng:\n",
        "    km = KMeans(n_clusters=k)\n",
        "    km.fit(df[['petal length (cm)','petal width (cm)']])\n",
        "    sse.append(km.inertia_)"
      ],
      "metadata": {
        "id": "MaaemGGBF44B"
      },
      "execution_count": 83,
      "outputs": []
    },
    {
      "cell_type": "code",
      "source": [
        "plt.xlabel('K')\n",
        "plt.ylabel('Sum of squared error')\n",
        "plt.plot(k_rng,sse)\n",
        "# plotting the elbow graph to figure out optimal value of k"
      ],
      "metadata": {
        "colab": {
          "base_uri": "https://localhost:8080/",
          "height": 297
        },
        "id": "mPC7aIch69mz",
        "outputId": "24b80848-f3a9-46bc-92dc-64be1a38c32d"
      },
      "execution_count": 85,
      "outputs": [
        {
          "output_type": "execute_result",
          "data": {
            "text/plain": [
              "[<matplotlib.lines.Line2D at 0x7f1f1641d450>]"
            ]
          },
          "metadata": {},
          "execution_count": 85
        },
        {
          "output_type": "display_data",
          "data": {
            "text/plain": [
              "<Figure size 432x288 with 1 Axes>"
            ],
            "image/png": "[encoded data removed]"
          },
          "metadata": {
            "needs_background": "light"
          }
        }
      ]
    },
    {
      "cell_type": "markdown",
      "source": [
        "**Here, we can see that the optimal value of k is 3.**"
      ],
      "metadata": {
        "id": "kfAAeaoRG7Ie"
      }
    }
  ]
}